{
 "cells": [
  {
   "cell_type": "code",
   "execution_count": 1,
   "metadata": {},
   "outputs": [],
   "source": [
    "import os\n",
    "import cv2\n",
    "import numpy as np\n",
    "from PIL import Image\n",
    "import shutil"
   ]
  },
  {
   "cell_type": "code",
   "execution_count": 2,
   "metadata": {},
   "outputs": [],
   "source": [
    "IMAGE_PATH = 'witkin'\n",
    "size = 100"
   ]
  },
  {
   "cell_type": "code",
   "execution_count": 3,
   "metadata": {},
   "outputs": [],
   "source": [
    "images = sorted(list(filter(lambda f: not f.startswith('.'), os.listdir(IMAGE_PATH))))\n",
    "\n",
    "def resize(fname):\n",
    "    im = Image.open(os.path.join(IMAGE_PATH, fname))\n",
    "    im = im.resize((size, size), Image.ANTIALIAS)\n",
    "    if im.mode != 'RGB':\n",
    "        rgbim = Image.new('RGB', im.size)\n",
    "        rgbim.paste(im)\n",
    "        im = rgbim\n",
    "    im = np.asarray(im).ravel() / 255\n",
    "    return im"
   ]
  },
  {
   "cell_type": "code",
   "execution_count": 4,
   "metadata": {},
   "outputs": [],
   "source": [
    "data = []\n",
    "for image in images:\n",
    "    data.append(resize(image))\n",
    "data = np.array(data, dtype=np.float32)"
   ]
  },
  {
   "cell_type": "code",
   "execution_count": 6,
   "metadata": {},
   "outputs": [
    {
     "name": "stdout",
     "output_type": "stream",
     "text": [
      "Created output directory witkin-3\n",
      "Created output directory witkin-4\n",
      "Created output directory witkin-5\n",
      "Created output directory witkin-6\n",
      "Created output directory witkin-7\n",
      "Created output directory witkin-8\n",
      "Created output directory witkin-9\n",
      "Created output directory witkin-10\n"
     ]
    }
   ],
   "source": [
    "criteria = (cv2.TERM_CRITERIA_EPS + cv2.TERM_CRITERIA_MAX_ITER, 50, 1.0)\n",
    "for k in range(3, 11):\n",
    "    compactness, labels, centers = cv2.kmeans(data, k, None, criteria, 10, cv2.KMEANS_RANDOM_CENTERS)\n",
    "    OUTPUT_PATH = \"witkin-{}\".format(k)\n",
    "    if not os.path.exists(OUTPUT_PATH):\n",
    "        print('Created output directory {}'.format(OUTPUT_PATH))\n",
    "        os.makedirs(OUTPUT_PATH)\n",
    "        for i in range(k):\n",
    "            os.makedirs(os.path.join(OUTPUT_PATH, str(i)))\n",
    "    for i in range(len(images)):\n",
    "        shutil.copy(os.path.join(IMAGE_PATH, images[i]), os.path.join(OUTPUT_PATH, str(labels.ravel()[i])))"
   ]
  },
  {
   "cell_type": "code",
   "execution_count": null,
   "metadata": {},
   "outputs": [],
   "source": []
  }
 ],
 "metadata": {
  "kernelspec": {
   "display_name": "Python 3",
   "language": "python",
   "name": "python3"
  },
  "language_info": {
   "codemirror_mode": {
    "name": "ipython",
    "version": 3
   },
   "file_extension": ".py",
   "mimetype": "text/x-python",
   "name": "python",
   "nbconvert_exporter": "python",
   "pygments_lexer": "ipython3",
   "version": "3.7.3"
  }
 },
 "nbformat": 4,
 "nbformat_minor": 2
}
